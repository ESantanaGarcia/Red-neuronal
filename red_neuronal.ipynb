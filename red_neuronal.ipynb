{
 "cells": [
  {
   "cell_type": "code",
   "execution_count": 22,
   "metadata": {},
   "outputs": [],
   "source": [
    "import os\n",
    "from PIL import Image\n",
    "import pandas as pd\n",
    "import matplotlib.pyplot as plt\n",
    "import torch\n",
    "import torch.nn as nn\n",
    "import torch.nn.functional as F\n",
    "import torch.optim as optim\n",
    "from torch.utils.data import DataLoader, Dataset\n",
    "from torchvision import transforms\n",
    "from sklearn.model_selection import train_test_split\n",
    "from sklearn.metrics import classification_report, confusion_matrix, ConfusionMatrixDisplay\n"
   ]
  },
  {
   "cell_type": "code",
   "execution_count": 23,
   "metadata": {},
   "outputs": [],
   "source": [
    "data_dir = './archive'"
   ]
  },
  {
   "cell_type": "code",
   "execution_count": 24,
   "metadata": {},
   "outputs": [],
   "source": [
    "# Configuración del dataset\n",
    "class CustomDataset(Dataset):\n",
    "    def __init__(self, file_paths, labels, transform=None):\n",
    "        self.file_paths = file_paths\n",
    "        self.labels = labels\n",
    "        self.transform = transform\n",
    "\n",
    "    def __len__(self):\n",
    "        return len(self.file_paths)\n",
    "\n",
    "    def __getitem__(self, idx):\n",
    "        img_path = self.file_paths[idx]\n",
    "        label = self.labels[idx]\n",
    "        image = Image.open(img_path).convert(\"L\")  # Convertimos a escala de grises\n",
    "        if self.transform:\n",
    "            image = self.transform(image)\n",
    "        return image, label"
   ]
  },
  {
   "cell_type": "code",
   "execution_count": 25,
   "metadata": {},
   "outputs": [],
   "source": [
    "# Función para cargar las imágenes y etiquetas\n",
    "def load_data(data_dir):\n",
    "    file_paths = []\n",
    "    labels = []\n",
    "    class_mapping = {\n",
    "        \"decks/cracked\": 0,\n",
    "        \"decks/non-cracked\": 1,\n",
    "        \"pavements/cracked\": 2,\n",
    "        \"pavements/non-cracked\": 3,\n",
    "        \"walls/cracked\": 4,\n",
    "        \"walls/non-cracked\": 5,\n",
    "    }\n",
    "\n",
    "    for label, idx in class_mapping.items():\n",
    "        folder = os.path.join(data_dir, label)\n",
    "        if os.path.exists(folder):  # Verificar que la carpeta exista\n",
    "            for file in os.listdir(folder):\n",
    "                file_path = os.path.join(folder, file)\n",
    "                if os.path.isfile(file_path):  # Verificar que es un archivo válido\n",
    "                    file_paths.append(file_path)\n",
    "                    labels.append(idx)\n",
    "\n",
    "    return file_paths, labels\n",
    "file_paths, labels = load_data(data_dir)\n"
   ]
  },
  {
   "cell_type": "code",
   "execution_count": 26,
   "metadata": {},
   "outputs": [],
   "source": [
    "# Entrenamiento y prueba\n",
    "train_paths, test_paths, train_labels, test_labels = train_test_split(\n",
    "    file_paths, labels, test_size=0.2, random_state=26, stratify=labels\n",
    ")\n",
    "# Entrenamiento y validación\n",
    "train_paths, val_paths, train_labels, val_labels = train_test_split(\n",
    "    train_paths, train_labels, test_size=0.2, random_state=26, stratify=train_labels\n",
    ")"
   ]
  },
  {
   "cell_type": "code",
   "execution_count": 27,
   "metadata": {},
   "outputs": [],
   "source": [
    "# Transformaciones y DataLoaders\n",
    "transform = transforms.Compose([\n",
    "    transforms.Resize((64, 64)),\n",
    "    transforms.RandomHorizontalFlip(p=0.5),\n",
    "    transforms.RandomRotation(5),\n",
    "    transforms.ToTensor(), \n",
    "    transforms.Normalize((0.5,), (0.5,)),\n",
    "])\n",
    "\n",
    "train_dataset = CustomDataset(train_paths, train_labels, transform=transform)\n",
    "val_dataset = CustomDataset(val_paths, val_labels, transform=transform)\n",
    "test_dataset = CustomDataset(test_paths, test_labels, transform=transform)\n",
    "\n",
    "train_loader = DataLoader(train_dataset, batch_size=64, shuffle=True)\n",
    "val_loader = DataLoader(val_dataset, batch_size=64, shuffle=False)\n",
    "test_loader = DataLoader(test_dataset, batch_size=64, shuffle=False)"
   ]
  },
  {
   "cell_type": "code",
   "execution_count": 28,
   "metadata": {},
   "outputs": [],
   "source": [
    "# Definición del modelo\n",
    "class ConvNet(nn.Module):\n",
    "    def __init__(self, dropout=0.2):\n",
    "        super(ConvNet, self).__init__()\n",
    "        self.conv1 = nn.Conv2d(1, 16, kernel_size=3, stride=1, padding=1)\n",
    "        self.bn1 = nn.BatchNorm2d(16)\n",
    "        self.pool = nn.MaxPool2d(kernel_size=2, stride=2, padding=0)\n",
    "        self.conv2 = nn.Conv2d(16, 32, kernel_size=3, stride=1, padding=1)\n",
    "        self.bn2 = nn.BatchNorm2d(32)\n",
    "        self.fc1 = nn.Linear(32 * 16 * 16, 128)\n",
    "        self.dropout = nn.Dropout(dropout)  #dropout dinamico\n",
    "        self.fc2 = nn.Linear(128, 6)\n",
    "\n",
    "    def forward(self, x):\n",
    "        x = self.pool(F.relu(self.conv1(x)))\n",
    "        x = self.pool(F.relu(self.conv2(x)))\n",
    "        x = x.view(-1, 32 * 16 * 16)\n",
    "        x = F.relu(self.fc1(x))\n",
    "        x = self.dropout(x)\n",
    "        x = self.fc2(x)\n",
    "        return x\n"
   ]
  },
  {
   "cell_type": "code",
   "execution_count": 29,
   "metadata": {},
   "outputs": [],
   "source": [
    "# Configuración de hiperparámetros\n",
    "params = {\n",
    "    'dropout': 0.2,\n",
    "    'lr': 0.001,\n",
    "    'weight_decay': 0.0001,\n",
    "    'batch_size': 64,\n",
    "    'epochs': 10,\n",
    "    'patience': 3,\n",
    "}"
   ]
  },
  {
   "cell_type": "code",
   "execution_count": 31,
   "metadata": {},
   "outputs": [],
   "source": [
    "def initialize_model(params):\n",
    "    model = ConvNet(dropout=params['dropout'])\n",
    "    criterion = nn.CrossEntropyLoss()\n",
    "    optimizer = optim.Adam(\n",
    "        model.parameters(),\n",
    "        lr=params['lr'],\n",
    "        weight_decay=params['weight_decay']\n",
    "    )\n",
    "    return model, criterion, optimizer\n"
   ]
  },
  {
   "cell_type": "code",
   "execution_count": 17,
   "metadata": {},
   "outputs": [],
   "source": [
    "model, criterion, optimizer = initialize_model(params)"
   ]
  },
  {
   "cell_type": "code",
   "execution_count": 32,
   "metadata": {},
   "outputs": [],
   "source": [
    "def train_one_epoch(model, dataloader, optimizer, criterion):\n",
    "    model.train()\n",
    "    running_loss = 0.0\n",
    "    for images, labels in dataloader:\n",
    "        optimizer.zero_grad()\n",
    "        outputs = model(images)\n",
    "        loss = criterion(outputs, labels)\n",
    "        loss.backward()\n",
    "        optimizer.step()\n",
    "        running_loss += loss.item()\n",
    "    return running_loss / len(dataloader)\n"
   ]
  },
  {
   "cell_type": "code",
   "execution_count": 33,
   "metadata": {},
   "outputs": [],
   "source": [
    "def validate_one_epoch(model, dataloader, criterion):\n",
    "    model.eval()\n",
    "    val_loss = 0.0\n",
    "    y_true = []\n",
    "    y_pred = []\n",
    "    with torch.no_grad():\n",
    "        for images, labels in dataloader:\n",
    "            outputs = model(images)\n",
    "            loss = criterion(outputs, labels)\n",
    "            val_loss += loss.item()\n",
    "            _, predicted = torch.max(outputs, 1)\n",
    "            y_true.extend(labels.numpy())\n",
    "            y_pred.extend(predicted.numpy())\n",
    "    val_loss /= len(dataloader)\n",
    "    report = classification_report(y_true, y_pred, output_dict=True)\n",
    "    val_accuracy = report['accuracy']\n",
    "    val_f1 = report['weighted avg']['f1-score']\n",
    "    return val_loss, val_accuracy, val_f1\n"
   ]
  },
  {
   "cell_type": "code",
   "execution_count": 36,
   "metadata": {},
   "outputs": [
    {
     "name": "stdout",
     "output_type": "stream",
     "text": [
      "Epoch 1/10 - Train Loss: 0.9498, Val Loss: 0.9685, Val Accuracy: 0.5365, Val F1-Score: 0.5182\n",
      "Guardando el mejor modelo con pérdida de validación 0.9685\n",
      "Epoch 2/10 - Train Loss: 0.9379, Val Loss: 0.9139, Val Accuracy: 0.5626, Val F1-Score: 0.5546\n",
      "Guardando el mejor modelo con pérdida de validación 0.9139\n",
      "Epoch 3/10 - Train Loss: 0.8994, Val Loss: 0.8838, Val Accuracy: 0.5785, Val F1-Score: 0.5712\n",
      "Guardando el mejor modelo con pérdida de validación 0.8838\n",
      "Epoch 4/10 - Train Loss: 0.8663, Val Loss: 0.8934, Val Accuracy: 0.5833, Val F1-Score: 0.5764\n",
      "No hay mejora en la pérdida de validación por 1 época(s).\n",
      "Epoch 5/10 - Train Loss: 0.8561, Val Loss: 0.8516, Val Accuracy: 0.5862, Val F1-Score: 0.5736\n",
      "Guardando el mejor modelo con pérdida de validación 0.8516\n",
      "Epoch 6/10 - Train Loss: 0.8305, Val Loss: 0.8359, Val Accuracy: 0.5980, Val F1-Score: 0.5920\n",
      "Guardando el mejor modelo con pérdida de validación 0.8359\n",
      "Epoch 7/10 - Train Loss: 0.8131, Val Loss: 0.8083, Val Accuracy: 0.6124, Val F1-Score: 0.5990\n",
      "Guardando el mejor modelo con pérdida de validación 0.8083\n",
      "Epoch 8/10 - Train Loss: 0.8098, Val Loss: 0.8029, Val Accuracy: 0.6216, Val F1-Score: 0.6151\n",
      "Guardando el mejor modelo con pérdida de validación 0.8029\n",
      "Epoch 9/10 - Train Loss: 0.7720, Val Loss: 0.7708, Val Accuracy: 0.6256, Val F1-Score: 0.6186\n",
      "Guardando el mejor modelo con pérdida de validación 0.7708\n",
      "Epoch 10/10 - Train Loss: 0.7717, Val Loss: 0.8330, Val Accuracy: 0.6010, Val F1-Score: 0.5901\n",
      "No hay mejora en la pérdida de validación por 1 época(s).\n"
     ]
    }
   ],
   "source": [
    "# Configuración de early stopping\n",
    "patience = params['patience']\n",
    "best_val_loss = float('inf')\n",
    "epochs_no_improve = 0\n",
    "\n",
    "for epoch in range(params['epochs']):\n",
    "    # Entrenamiento\n",
    "    train_loss = train_one_epoch(model, train_loader, optimizer, criterion)\n",
    "    # Validación\n",
    "    val_loss, val_accuracy, val_f1 = validate_one_epoch(model, val_loader, criterion)\n",
    "    # Imprimir métricas\n",
    "    print(f\"Epoch {epoch + 1}/{params['epochs']} - \"\n",
    "          f\"Train Loss: {train_loss:.4f}, \"\n",
    "          f\"Val Loss: {val_loss:.4f}, \"\n",
    "          f\"Val Accuracy: {val_accuracy:.4f}, \"\n",
    "          f\"Val F1-Score: {val_f1:.4f}\")\n",
    "\n",
    "    # Early stopping\n",
    "    if val_loss < best_val_loss:\n",
    "        best_val_loss = val_loss\n",
    "        epochs_no_improve = 0\n",
    "    else:\n",
    "        epochs_no_improve += 1\n",
    "        print(f\"No hay mejora en la pérdida de validación por {epochs_no_improve} época(s).\")\n",
    "\n",
    "    if epochs_no_improve >= patience:\n",
    "        print(\"Early stopping activado. Entrenamiento detenido.\")\n",
    "        break\n"
   ]
  },
  {
   "cell_type": "code",
   "execution_count": 38,
   "metadata": {},
   "outputs": [
    {
     "name": "stderr",
     "output_type": "stream",
     "text": [
      "C:\\Users\\elena\\AppData\\Local\\Temp\\ipykernel_17824\\4110677643.py:2: FutureWarning: You are using `torch.load` with `weights_only=False` (the current default value), which uses the default pickle module implicitly. It is possible to construct malicious pickle data which will execute arbitrary code during unpickling (See https://github.com/pytorch/pytorch/blob/main/SECURITY.md#untrusted-models for more details). In a future release, the default value for `weights_only` will be flipped to `True`. This limits the functions that could be executed during unpickling. Arbitrary objects will no longer be allowed to be loaded via this mode unless they are explicitly allowlisted by the user via `torch.serialization.add_safe_globals`. We recommend you start setting `weights_only=True` for any use case where you don't have full control of the loaded file. Please open an issue on GitHub for any issues related to this experimental feature.\n",
      "  model.load_state_dict(torch.load('best_model.pth'))\n"
     ]
    },
    {
     "name": "stdout",
     "output_type": "stream",
     "text": [
      "Test Loss: 0.7848\n",
      "Classification Report:\n",
      "                        precision    recall  f1-score   support\n",
      "\n",
      "        decks/cracked       0.66      0.35      0.46       381\n",
      "    decks/non-cracked       0.57      0.78      0.66       412\n",
      "    pavements/cracked       0.72      0.69      0.70       522\n",
      "pavements/non-cracked       0.74      0.74      0.74       524\n",
      "        walls/cracked       0.55      0.51      0.53       770\n",
      "    walls/non-cracked       0.57      0.65      0.61       783\n",
      "\n",
      "             accuracy                           0.62      3392\n",
      "            macro avg       0.64      0.62      0.62      3392\n",
      "         weighted avg       0.63      0.62      0.62      3392\n",
      "\n"
     ]
    }
   ],
   "source": [
    "# Evaluación en el conjunto de prueba\n",
    "model.load_state_dict(torch.load('best_model.pth'))\n",
    "model.eval()\n",
    "\n",
    "test_loss = 0.0\n",
    "y_true = []\n",
    "y_pred = []\n",
    "with torch.no_grad():\n",
    "    for images, labels in test_loader:\n",
    "        outputs = model(images)\n",
    "        loss = criterion(outputs, labels)\n",
    "        test_loss += loss.item()\n",
    "        _, predicted = torch.max(outputs, 1)\n",
    "        y_true.extend(labels.numpy())\n",
    "        y_pred.extend(predicted.numpy())\n",
    "\n",
    "test_loss /= len(test_loader)\n",
    "report = classification_report(y_true, y_pred, target_names=[\n",
    "    \"decks/cracked\", \"decks/non-cracked\", \"pavements/cracked\",\n",
    "    \"pavements/non-cracked\", \"walls/cracked\", \"walls/non-cracked\"\n",
    "])\n",
    "\n",
    "print(f\"Test Loss: {test_loss:.4f}\")\n",
    "print(\"Classification Report:\\n\", report)"
   ]
  },
  {
   "cell_type": "code",
   "execution_count": 39,
   "metadata": {},
   "outputs": [
    {
     "data": {
      "image/png": "[encoded data removed]",
      "text/plain": [
       "<Figure size 640x480 with 2 Axes>"
      ]
     },
     "metadata": {},
     "output_type": "display_data"
    }
   ],
   "source": [
    "# Matriz de confusión\n",
    "conf_matrix = confusion_matrix(y_true, y_pred)\n",
    "disp = ConfusionMatrixDisplay(confusion_matrix=conf_matrix, display_labels=[\n",
    "    \"decks/cracked\", \"decks/non-cracked\", \"pavements/cracked\",\n",
    "    \"pavements/non-cracked\", \"walls/cracked\", \"walls/non-cracked\"\n",
    "])\n",
    "disp.plot(cmap=plt.cm.Blues)\n",
    "plt.title(\"Matriz de Confusión\")\n",
    "plt.show()\n"
   ]
  },
  {
   "cell_type": "code",
   "execution_count": 1,
   "metadata": {},
   "outputs": [
    {
     "ename": "NameError",
     "evalue": "name 'model' is not defined",
     "output_type": "error",
     "traceback": [
      "\u001b[1;31m---------------------------------------------------------------------------\u001b[0m",
      "\u001b[1;31mNameError\u001b[0m                                 Traceback (most recent call last)",
      "Cell \u001b[1;32mIn[1], line 1\u001b[0m\n\u001b[1;32m----> 1\u001b[0m \u001b[43mmodel\u001b[49m\u001b[38;5;241m.\u001b[39mload_state_dict(torch\u001b[38;5;241m.\u001b[39mload(\u001b[38;5;124m'\u001b[39m\u001b[38;5;124mbest_model.pth\u001b[39m\u001b[38;5;124m'\u001b[39m))\n",
      "\u001b[1;31mNameError\u001b[0m: name 'model' is not defined"
     ]
    }
   ],
   "source": [
    "model.load_state_dict(torch.load('best_model.pth'))"
   ]
  }
 ],
 "metadata": {
  "kernelspec": {
   "display_name": "cdi",
   "language": "python",
   "name": "python3"
  },
  "language_info": {
   "codemirror_mode": {
    "name": "ipython",
    "version": 3
   },
   "file_extension": ".py",
   "mimetype": "text/x-python",
   "name": "python",
   "nbconvert_exporter": "python",
   "pygments_lexer": "ipython3",
   "version": "3.10.15"
  }
 },
 "nbformat": 4,
 "nbformat_minor": 2
}
